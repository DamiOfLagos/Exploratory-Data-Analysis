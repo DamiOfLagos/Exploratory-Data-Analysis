{
 "cells": [
  {
   "cell_type": "code",
   "execution_count": 2,
   "metadata": {},
   "outputs": [],
   "source": [
    "import pandas as pd\n",
    "import matplotlib.pyplot as plt"
   ]
  },
  {
   "cell_type": "code",
   "execution_count": 3,
   "metadata": {},
   "outputs": [
    {
     "data": {
      "text/html": [
       "<div>\n",
       "<style scoped>\n",
       "    .dataframe tbody tr th:only-of-type {\n",
       "        vertical-align: middle;\n",
       "    }\n",
       "\n",
       "    .dataframe tbody tr th {\n",
       "        vertical-align: top;\n",
       "    }\n",
       "\n",
       "    .dataframe thead th {\n",
       "        text-align: right;\n",
       "    }\n",
       "</style>\n",
       "<table border=\"1\" class=\"dataframe\">\n",
       "  <thead>\n",
       "    <tr style=\"text-align: right;\">\n",
       "      <th></th>\n",
       "      <th>Date</th>\n",
       "      <th>Open</th>\n",
       "      <th>High</th>\n",
       "      <th>Low</th>\n",
       "      <th>Close</th>\n",
       "      <th>Volume</th>\n",
       "      <th>Adj Close</th>\n",
       "    </tr>\n",
       "  </thead>\n",
       "  <tbody>\n",
       "    <tr>\n",
       "      <th>0</th>\n",
       "      <td>2016-03-10</td>\n",
       "      <td>11.20</td>\n",
       "      <td>11.85</td>\n",
       "      <td>11.07</td>\n",
       "      <td>11.75</td>\n",
       "      <td>4</td>\n",
       "      <td>NaN</td>\n",
       "    </tr>\n",
       "    <tr>\n",
       "      <th>1</th>\n",
       "      <td>2016-03-11</td>\n",
       "      <td>11.75</td>\n",
       "      <td>11.95</td>\n",
       "      <td>11.75</td>\n",
       "      <td>11.95</td>\n",
       "      <td>179</td>\n",
       "      <td>NaN</td>\n",
       "    </tr>\n",
       "    <tr>\n",
       "      <th>2</th>\n",
       "      <td>2016-03-12</td>\n",
       "      <td>11.95</td>\n",
       "      <td>13.45</td>\n",
       "      <td>11.95</td>\n",
       "      <td>12.92</td>\n",
       "      <td>833</td>\n",
       "      <td>NaN</td>\n",
       "    </tr>\n",
       "    <tr>\n",
       "      <th>3</th>\n",
       "      <td>2016-03-13</td>\n",
       "      <td>12.92</td>\n",
       "      <td>15.07</td>\n",
       "      <td>12.92</td>\n",
       "      <td>15.07</td>\n",
       "      <td>1295</td>\n",
       "      <td>NaN</td>\n",
       "    </tr>\n",
       "    <tr>\n",
       "      <th>4</th>\n",
       "      <td>2016-03-14</td>\n",
       "      <td>15.07</td>\n",
       "      <td>15.07</td>\n",
       "      <td>11.40</td>\n",
       "      <td>12.50</td>\n",
       "      <td>92183</td>\n",
       "      <td>NaN</td>\n",
       "    </tr>\n",
       "  </tbody>\n",
       "</table>\n",
       "</div>"
      ],
      "text/plain": [
       "         Date   Open   High    Low  Close  Volume  Adj Close\n",
       "0  2016-03-10  11.20  11.85  11.07  11.75       4        NaN\n",
       "1  2016-03-11  11.75  11.95  11.75  11.95     179        NaN\n",
       "2  2016-03-12  11.95  13.45  11.95  12.92     833        NaN\n",
       "3  2016-03-13  12.92  15.07  12.92  15.07    1295        NaN\n",
       "4  2016-03-14  15.07  15.07  11.40  12.50   92183        NaN"
      ]
     },
     "execution_count": 3,
     "metadata": {},
     "output_type": "execute_result"
    }
   ],
   "source": [
    "df = pd.read_csv(r\"C:\\Users\\sunky\\Downloads\\archive (2)\\Ethereum Historical Data.csv\")\n",
    "df.head()"
   ]
  },
  {
   "cell_type": "code",
   "execution_count": 4,
   "metadata": {},
   "outputs": [
    {
     "name": "stdout",
     "output_type": "stream",
     "text": [
      "<class 'pandas.core.frame.DataFrame'>\n",
      "RangeIndex: 2412 entries, 0 to 2411\n",
      "Data columns (total 7 columns):\n",
      " #   Column     Non-Null Count  Dtype  \n",
      "---  ------     --------------  -----  \n",
      " 0   Date       2412 non-null   object \n",
      " 1   Open       2412 non-null   float64\n",
      " 2   High       2412 non-null   float64\n",
      " 3   Low        2412 non-null   float64\n",
      " 4   Close      2412 non-null   float64\n",
      " 5   Volume     2412 non-null   int64  \n",
      " 6   Adj Close  31 non-null     float64\n",
      "dtypes: float64(5), int64(1), object(1)\n",
      "memory usage: 132.0+ KB\n"
     ]
    }
   ],
   "source": [
    "df.info()"
   ]
  },
  {
   "cell_type": "code",
   "execution_count": 5,
   "metadata": {},
   "outputs": [
    {
     "data": {
      "text/plain": [
       "0"
      ]
     },
     "execution_count": 5,
     "metadata": {},
     "output_type": "execute_result"
    }
   ],
   "source": [
    "df.duplicated().sum()"
   ]
  },
  {
   "cell_type": "code",
   "execution_count": 6,
   "metadata": {},
   "outputs": [
    {
     "data": {
      "text/plain": [
       "2381"
      ]
     },
     "execution_count": 6,
     "metadata": {},
     "output_type": "execute_result"
    }
   ],
   "source": [
    "df.isnull().sum().sum()"
   ]
  },
  {
   "cell_type": "code",
   "execution_count": 7,
   "metadata": {},
   "outputs": [
    {
     "data": {
      "text/html": [
       "<div>\n",
       "<style scoped>\n",
       "    .dataframe tbody tr th:only-of-type {\n",
       "        vertical-align: middle;\n",
       "    }\n",
       "\n",
       "    .dataframe tbody tr th {\n",
       "        vertical-align: top;\n",
       "    }\n",
       "\n",
       "    .dataframe thead th {\n",
       "        text-align: right;\n",
       "    }\n",
       "</style>\n",
       "<table border=\"1\" class=\"dataframe\">\n",
       "  <thead>\n",
       "    <tr style=\"text-align: right;\">\n",
       "      <th></th>\n",
       "      <th>Date</th>\n",
       "      <th>Open</th>\n",
       "      <th>High</th>\n",
       "      <th>Low</th>\n",
       "      <th>Close</th>\n",
       "      <th>Volume</th>\n",
       "      <th>Adj Close</th>\n",
       "    </tr>\n",
       "  </thead>\n",
       "  <tbody>\n",
       "    <tr>\n",
       "      <th>2381</th>\n",
       "      <td>2022-09-16 00:00:00</td>\n",
       "      <td>1471.928345</td>\n",
       "      <td>1480.564209</td>\n",
       "      <td>1415.581299</td>\n",
       "      <td>1432.447754</td>\n",
       "      <td>16764804299</td>\n",
       "      <td>1432.447754</td>\n",
       "    </tr>\n",
       "    <tr>\n",
       "      <th>2382</th>\n",
       "      <td>2022-09-17 00:00:00</td>\n",
       "      <td>1432.876465</td>\n",
       "      <td>1473.060425</td>\n",
       "      <td>1415.042358</td>\n",
       "      <td>1469.741699</td>\n",
       "      <td>10798098671</td>\n",
       "      <td>1469.741699</td>\n",
       "    </tr>\n",
       "    <tr>\n",
       "      <th>2383</th>\n",
       "      <td>2022-09-18 00:00:00</td>\n",
       "      <td>1469.705444</td>\n",
       "      <td>1469.705444</td>\n",
       "      <td>1331.494751</td>\n",
       "      <td>1335.329102</td>\n",
       "      <td>15762284723</td>\n",
       "      <td>1335.329102</td>\n",
       "    </tr>\n",
       "    <tr>\n",
       "      <th>2384</th>\n",
       "      <td>2022-09-19 00:00:00</td>\n",
       "      <td>1335.270752</td>\n",
       "      <td>1388.272217</td>\n",
       "      <td>1287.420898</td>\n",
       "      <td>1377.541382</td>\n",
       "      <td>18712714223</td>\n",
       "      <td>1377.541382</td>\n",
       "    </tr>\n",
       "    <tr>\n",
       "      <th>2385</th>\n",
       "      <td>2022-09-20 00:00:00</td>\n",
       "      <td>1377.619019</td>\n",
       "      <td>1381.965698</td>\n",
       "      <td>1319.201416</td>\n",
       "      <td>1324.388184</td>\n",
       "      <td>14722317220</td>\n",
       "      <td>1324.388184</td>\n",
       "    </tr>\n",
       "    <tr>\n",
       "      <th>2386</th>\n",
       "      <td>2022-09-21 00:00:00</td>\n",
       "      <td>1324.215576</td>\n",
       "      <td>1384.476929</td>\n",
       "      <td>1229.426758</td>\n",
       "      <td>1252.607788</td>\n",
       "      <td>20643507800</td>\n",
       "      <td>1252.607788</td>\n",
       "    </tr>\n",
       "    <tr>\n",
       "      <th>2387</th>\n",
       "      <td>2022-09-22 00:00:00</td>\n",
       "      <td>1251.567383</td>\n",
       "      <td>1336.157837</td>\n",
       "      <td>1240.968262</td>\n",
       "      <td>1327.680176</td>\n",
       "      <td>18461527259</td>\n",
       "      <td>1327.680176</td>\n",
       "    </tr>\n",
       "    <tr>\n",
       "      <th>2388</th>\n",
       "      <td>2022-09-23 00:00:00</td>\n",
       "      <td>1327.481201</td>\n",
       "      <td>1353.288330</td>\n",
       "      <td>1270.198364</td>\n",
       "      <td>1328.259521</td>\n",
       "      <td>18771106339</td>\n",
       "      <td>1328.259521</td>\n",
       "    </tr>\n",
       "    <tr>\n",
       "      <th>2389</th>\n",
       "      <td>2022-09-24 00:00:00</td>\n",
       "      <td>1328.244629</td>\n",
       "      <td>1346.255249</td>\n",
       "      <td>1312.640259</td>\n",
       "      <td>1317.993286</td>\n",
       "      <td>12098209717</td>\n",
       "      <td>1317.993286</td>\n",
       "    </tr>\n",
       "    <tr>\n",
       "      <th>2390</th>\n",
       "      <td>2022-09-25 00:00:00</td>\n",
       "      <td>1317.938477</td>\n",
       "      <td>1333.371338</td>\n",
       "      <td>1275.627686</td>\n",
       "      <td>1294.216797</td>\n",
       "      <td>11802651633</td>\n",
       "      <td>1294.216797</td>\n",
       "    </tr>\n",
       "    <tr>\n",
       "      <th>2391</th>\n",
       "      <td>2022-09-26 00:00:00</td>\n",
       "      <td>1294.386108</td>\n",
       "      <td>1335.526367</td>\n",
       "      <td>1282.049316</td>\n",
       "      <td>1335.320190</td>\n",
       "      <td>16034549271</td>\n",
       "      <td>1335.320190</td>\n",
       "    </tr>\n",
       "    <tr>\n",
       "      <th>2392</th>\n",
       "      <td>2022-09-27 00:00:00</td>\n",
       "      <td>1335.337036</td>\n",
       "      <td>1396.891479</td>\n",
       "      <td>1308.991455</td>\n",
       "      <td>1330.127686</td>\n",
       "      <td>17870598937</td>\n",
       "      <td>1330.127686</td>\n",
       "    </tr>\n",
       "    <tr>\n",
       "      <th>2393</th>\n",
       "      <td>2022-09-28 00:00:00</td>\n",
       "      <td>1329.541382</td>\n",
       "      <td>1351.964478</td>\n",
       "      <td>1267.869263</td>\n",
       "      <td>1337.410889</td>\n",
       "      <td>18994979566</td>\n",
       "      <td>1337.410889</td>\n",
       "    </tr>\n",
       "    <tr>\n",
       "      <th>2394</th>\n",
       "      <td>2022-09-29 00:00:00</td>\n",
       "      <td>1337.554443</td>\n",
       "      <td>1348.107666</td>\n",
       "      <td>1293.193359</td>\n",
       "      <td>1335.652344</td>\n",
       "      <td>13796915736</td>\n",
       "      <td>1335.652344</td>\n",
       "    </tr>\n",
       "    <tr>\n",
       "      <th>2395</th>\n",
       "      <td>2022-09-30 00:00:00</td>\n",
       "      <td>1335.646484</td>\n",
       "      <td>1368.743408</td>\n",
       "      <td>1320.383179</td>\n",
       "      <td>1327.978638</td>\n",
       "      <td>14250100093</td>\n",
       "      <td>1327.978638</td>\n",
       "    </tr>\n",
       "    <tr>\n",
       "      <th>2396</th>\n",
       "      <td>2022-10-01 00:00:00</td>\n",
       "      <td>1328.193726</td>\n",
       "      <td>1332.516479</td>\n",
       "      <td>1306.102539</td>\n",
       "      <td>1311.644409</td>\n",
       "      <td>6227961237</td>\n",
       "      <td>1311.644409</td>\n",
       "    </tr>\n",
       "    <tr>\n",
       "      <th>2397</th>\n",
       "      <td>2022-10-02 00:00:00</td>\n",
       "      <td>1311.753418</td>\n",
       "      <td>1316.330078</td>\n",
       "      <td>1275.336060</td>\n",
       "      <td>1276.093506</td>\n",
       "      <td>7578351650</td>\n",
       "      <td>1276.093506</td>\n",
       "    </tr>\n",
       "    <tr>\n",
       "      <th>2398</th>\n",
       "      <td>2022-10-03 00:00:00</td>\n",
       "      <td>1276.163452</td>\n",
       "      <td>1326.554443</td>\n",
       "      <td>1271.150879</td>\n",
       "      <td>1323.439209</td>\n",
       "      <td>10153070907</td>\n",
       "      <td>1323.439209</td>\n",
       "    </tr>\n",
       "    <tr>\n",
       "      <th>2399</th>\n",
       "      <td>2022-10-04 00:00:00</td>\n",
       "      <td>1323.278320</td>\n",
       "      <td>1364.970947</td>\n",
       "      <td>1320.076660</td>\n",
       "      <td>1362.126587</td>\n",
       "      <td>10139774963</td>\n",
       "      <td>1362.126587</td>\n",
       "    </tr>\n",
       "    <tr>\n",
       "      <th>2400</th>\n",
       "      <td>2022-10-05 00:00:00</td>\n",
       "      <td>1361.972900</td>\n",
       "      <td>1362.451782</td>\n",
       "      <td>1320.855103</td>\n",
       "      <td>1352.837158</td>\n",
       "      <td>9774451820</td>\n",
       "      <td>1352.837158</td>\n",
       "    </tr>\n",
       "    <tr>\n",
       "      <th>2401</th>\n",
       "      <td>2022-10-06 00:00:00</td>\n",
       "      <td>1352.806641</td>\n",
       "      <td>1380.404907</td>\n",
       "      <td>1349.449951</td>\n",
       "      <td>1351.709473</td>\n",
       "      <td>12033514861</td>\n",
       "      <td>1351.709473</td>\n",
       "    </tr>\n",
       "    <tr>\n",
       "      <th>2402</th>\n",
       "      <td>2022-10-07 00:00:00</td>\n",
       "      <td>1351.836426</td>\n",
       "      <td>1359.328125</td>\n",
       "      <td>1321.746094</td>\n",
       "      <td>1332.516968</td>\n",
       "      <td>10061619355</td>\n",
       "      <td>1332.516968</td>\n",
       "    </tr>\n",
       "    <tr>\n",
       "      <th>2403</th>\n",
       "      <td>2022-10-08 00:00:00</td>\n",
       "      <td>1332.371338</td>\n",
       "      <td>1335.954834</td>\n",
       "      <td>1307.072998</td>\n",
       "      <td>1315.500488</td>\n",
       "      <td>5804676208</td>\n",
       "      <td>1315.500488</td>\n",
       "    </tr>\n",
       "    <tr>\n",
       "      <th>2404</th>\n",
       "      <td>2022-10-09 00:00:00</td>\n",
       "      <td>1315.460205</td>\n",
       "      <td>1327.668823</td>\n",
       "      <td>1309.344604</td>\n",
       "      <td>1322.604248</td>\n",
       "      <td>5486230123</td>\n",
       "      <td>1322.604248</td>\n",
       "    </tr>\n",
       "    <tr>\n",
       "      <th>2405</th>\n",
       "      <td>2022-10-10 00:00:00</td>\n",
       "      <td>1322.618652</td>\n",
       "      <td>1335.662720</td>\n",
       "      <td>1291.337646</td>\n",
       "      <td>1291.337646</td>\n",
       "      <td>8794491050</td>\n",
       "      <td>1291.337646</td>\n",
       "    </tr>\n",
       "    <tr>\n",
       "      <th>2406</th>\n",
       "      <td>2022-10-11 00:00:00</td>\n",
       "      <td>1291.109619</td>\n",
       "      <td>1296.273926</td>\n",
       "      <td>1272.737671</td>\n",
       "      <td>1279.575684</td>\n",
       "      <td>9274845260</td>\n",
       "      <td>1279.575684</td>\n",
       "    </tr>\n",
       "    <tr>\n",
       "      <th>2407</th>\n",
       "      <td>2022-10-12 00:00:00</td>\n",
       "      <td>1279.732300</td>\n",
       "      <td>1303.075195</td>\n",
       "      <td>1277.527466</td>\n",
       "      <td>1294.906372</td>\n",
       "      <td>8355638578</td>\n",
       "      <td>1294.906372</td>\n",
       "    </tr>\n",
       "    <tr>\n",
       "      <th>2408</th>\n",
       "      <td>2022-10-13 00:00:00</td>\n",
       "      <td>1294.917358</td>\n",
       "      <td>1297.564209</td>\n",
       "      <td>1209.278198</td>\n",
       "      <td>1288.123901</td>\n",
       "      <td>17499038202</td>\n",
       "      <td>1288.123901</td>\n",
       "    </tr>\n",
       "    <tr>\n",
       "      <th>2409</th>\n",
       "      <td>2022-10-14 00:00:00</td>\n",
       "      <td>1288.048706</td>\n",
       "      <td>1339.744751</td>\n",
       "      <td>1285.378296</td>\n",
       "      <td>1297.422119</td>\n",
       "      <td>13113767755</td>\n",
       "      <td>1297.422119</td>\n",
       "    </tr>\n",
       "    <tr>\n",
       "      <th>2410</th>\n",
       "      <td>2022-10-15 00:00:00</td>\n",
       "      <td>1297.305908</td>\n",
       "      <td>1300.745972</td>\n",
       "      <td>1268.468506</td>\n",
       "      <td>1274.871704</td>\n",
       "      <td>6798512624</td>\n",
       "      <td>1274.871704</td>\n",
       "    </tr>\n",
       "    <tr>\n",
       "      <th>2411</th>\n",
       "      <td>2022-10-16 00:00:00</td>\n",
       "      <td>1276.767578</td>\n",
       "      <td>1288.521973</td>\n",
       "      <td>1276.767578</td>\n",
       "      <td>1286.150269</td>\n",
       "      <td>6007683072</td>\n",
       "      <td>1286.150269</td>\n",
       "    </tr>\n",
       "  </tbody>\n",
       "</table>\n",
       "</div>"
      ],
      "text/plain": [
       "                     Date         Open         High          Low        Close  \\\n",
       "2381  2022-09-16 00:00:00  1471.928345  1480.564209  1415.581299  1432.447754   \n",
       "2382  2022-09-17 00:00:00  1432.876465  1473.060425  1415.042358  1469.741699   \n",
       "2383  2022-09-18 00:00:00  1469.705444  1469.705444  1331.494751  1335.329102   \n",
       "2384  2022-09-19 00:00:00  1335.270752  1388.272217  1287.420898  1377.541382   \n",
       "2385  2022-09-20 00:00:00  1377.619019  1381.965698  1319.201416  1324.388184   \n",
       "2386  2022-09-21 00:00:00  1324.215576  1384.476929  1229.426758  1252.607788   \n",
       "2387  2022-09-22 00:00:00  1251.567383  1336.157837  1240.968262  1327.680176   \n",
       "2388  2022-09-23 00:00:00  1327.481201  1353.288330  1270.198364  1328.259521   \n",
       "2389  2022-09-24 00:00:00  1328.244629  1346.255249  1312.640259  1317.993286   \n",
       "2390  2022-09-25 00:00:00  1317.938477  1333.371338  1275.627686  1294.216797   \n",
       "2391  2022-09-26 00:00:00  1294.386108  1335.526367  1282.049316  1335.320190   \n",
       "2392  2022-09-27 00:00:00  1335.337036  1396.891479  1308.991455  1330.127686   \n",
       "2393  2022-09-28 00:00:00  1329.541382  1351.964478  1267.869263  1337.410889   \n",
       "2394  2022-09-29 00:00:00  1337.554443  1348.107666  1293.193359  1335.652344   \n",
       "2395  2022-09-30 00:00:00  1335.646484  1368.743408  1320.383179  1327.978638   \n",
       "2396  2022-10-01 00:00:00  1328.193726  1332.516479  1306.102539  1311.644409   \n",
       "2397  2022-10-02 00:00:00  1311.753418  1316.330078  1275.336060  1276.093506   \n",
       "2398  2022-10-03 00:00:00  1276.163452  1326.554443  1271.150879  1323.439209   \n",
       "2399  2022-10-04 00:00:00  1323.278320  1364.970947  1320.076660  1362.126587   \n",
       "2400  2022-10-05 00:00:00  1361.972900  1362.451782  1320.855103  1352.837158   \n",
       "2401  2022-10-06 00:00:00  1352.806641  1380.404907  1349.449951  1351.709473   \n",
       "2402  2022-10-07 00:00:00  1351.836426  1359.328125  1321.746094  1332.516968   \n",
       "2403  2022-10-08 00:00:00  1332.371338  1335.954834  1307.072998  1315.500488   \n",
       "2404  2022-10-09 00:00:00  1315.460205  1327.668823  1309.344604  1322.604248   \n",
       "2405  2022-10-10 00:00:00  1322.618652  1335.662720  1291.337646  1291.337646   \n",
       "2406  2022-10-11 00:00:00  1291.109619  1296.273926  1272.737671  1279.575684   \n",
       "2407  2022-10-12 00:00:00  1279.732300  1303.075195  1277.527466  1294.906372   \n",
       "2408  2022-10-13 00:00:00  1294.917358  1297.564209  1209.278198  1288.123901   \n",
       "2409  2022-10-14 00:00:00  1288.048706  1339.744751  1285.378296  1297.422119   \n",
       "2410  2022-10-15 00:00:00  1297.305908  1300.745972  1268.468506  1274.871704   \n",
       "2411  2022-10-16 00:00:00  1276.767578  1288.521973  1276.767578  1286.150269   \n",
       "\n",
       "           Volume    Adj Close  \n",
       "2381  16764804299  1432.447754  \n",
       "2382  10798098671  1469.741699  \n",
       "2383  15762284723  1335.329102  \n",
       "2384  18712714223  1377.541382  \n",
       "2385  14722317220  1324.388184  \n",
       "2386  20643507800  1252.607788  \n",
       "2387  18461527259  1327.680176  \n",
       "2388  18771106339  1328.259521  \n",
       "2389  12098209717  1317.993286  \n",
       "2390  11802651633  1294.216797  \n",
       "2391  16034549271  1335.320190  \n",
       "2392  17870598937  1330.127686  \n",
       "2393  18994979566  1337.410889  \n",
       "2394  13796915736  1335.652344  \n",
       "2395  14250100093  1327.978638  \n",
       "2396   6227961237  1311.644409  \n",
       "2397   7578351650  1276.093506  \n",
       "2398  10153070907  1323.439209  \n",
       "2399  10139774963  1362.126587  \n",
       "2400   9774451820  1352.837158  \n",
       "2401  12033514861  1351.709473  \n",
       "2402  10061619355  1332.516968  \n",
       "2403   5804676208  1315.500488  \n",
       "2404   5486230123  1322.604248  \n",
       "2405   8794491050  1291.337646  \n",
       "2406   9274845260  1279.575684  \n",
       "2407   8355638578  1294.906372  \n",
       "2408  17499038202  1288.123901  \n",
       "2409  13113767755  1297.422119  \n",
       "2410   6798512624  1274.871704  \n",
       "2411   6007683072  1286.150269  "
      ]
     },
     "execution_count": 7,
     "metadata": {},
     "output_type": "execute_result"
    }
   ],
   "source": [
    "df.dropna()"
   ]
  },
  {
   "cell_type": "code",
   "execution_count": 8,
   "metadata": {},
   "outputs": [
    {
     "name": "stdout",
     "output_type": "stream",
     "text": [
      "<class 'pandas.core.frame.DataFrame'>\n",
      "RangeIndex: 2412 entries, 0 to 2411\n",
      "Data columns (total 7 columns):\n",
      " #   Column     Non-Null Count  Dtype  \n",
      "---  ------     --------------  -----  \n",
      " 0   Date       2412 non-null   object \n",
      " 1   Open       2412 non-null   float64\n",
      " 2   High       2412 non-null   float64\n",
      " 3   Low        2412 non-null   float64\n",
      " 4   Close      2412 non-null   float64\n",
      " 5   Volume     2412 non-null   int64  \n",
      " 6   Adj Close  31 non-null     float64\n",
      "dtypes: float64(5), int64(1), object(1)\n",
      "memory usage: 132.0+ KB\n"
     ]
    }
   ],
   "source": [
    "df.info()"
   ]
  },
  {
   "cell_type": "code",
   "execution_count": 9,
   "metadata": {},
   "outputs": [],
   "source": [
    "df.dropna(axis=1, how='any',inplace = True)"
   ]
  },
  {
   "cell_type": "code",
   "execution_count": 10,
   "metadata": {},
   "outputs": [
    {
     "name": "stdout",
     "output_type": "stream",
     "text": [
      "<class 'pandas.core.frame.DataFrame'>\n",
      "RangeIndex: 2412 entries, 0 to 2411\n",
      "Data columns (total 6 columns):\n",
      " #   Column  Non-Null Count  Dtype  \n",
      "---  ------  --------------  -----  \n",
      " 0   Date    2412 non-null   object \n",
      " 1   Open    2412 non-null   float64\n",
      " 2   High    2412 non-null   float64\n",
      " 3   Low     2412 non-null   float64\n",
      " 4   Close   2412 non-null   float64\n",
      " 5   Volume  2412 non-null   int64  \n",
      "dtypes: float64(4), int64(1), object(1)\n",
      "memory usage: 113.2+ KB\n"
     ]
    }
   ],
   "source": [
    "df.info()"
   ]
  },
  {
   "cell_type": "code",
   "execution_count": 11,
   "metadata": {},
   "outputs": [
    {
     "data": {
      "text/html": [
       "<div>\n",
       "<style scoped>\n",
       "    .dataframe tbody tr th:only-of-type {\n",
       "        vertical-align: middle;\n",
       "    }\n",
       "\n",
       "    .dataframe tbody tr th {\n",
       "        vertical-align: top;\n",
       "    }\n",
       "\n",
       "    .dataframe thead th {\n",
       "        text-align: right;\n",
       "    }\n",
       "</style>\n",
       "<table border=\"1\" class=\"dataframe\">\n",
       "  <thead>\n",
       "    <tr style=\"text-align: right;\">\n",
       "      <th></th>\n",
       "      <th>Date</th>\n",
       "      <th>Open</th>\n",
       "      <th>High</th>\n",
       "      <th>Low</th>\n",
       "      <th>Close</th>\n",
       "      <th>Volume</th>\n",
       "    </tr>\n",
       "  </thead>\n",
       "  <tbody>\n",
       "    <tr>\n",
       "      <th>0</th>\n",
       "      <td>2016-03-10</td>\n",
       "      <td>11.20</td>\n",
       "      <td>11.85</td>\n",
       "      <td>11.07</td>\n",
       "      <td>11.75</td>\n",
       "      <td>4</td>\n",
       "    </tr>\n",
       "    <tr>\n",
       "      <th>1</th>\n",
       "      <td>2016-03-11</td>\n",
       "      <td>11.75</td>\n",
       "      <td>11.95</td>\n",
       "      <td>11.75</td>\n",
       "      <td>11.95</td>\n",
       "      <td>179</td>\n",
       "    </tr>\n",
       "    <tr>\n",
       "      <th>2</th>\n",
       "      <td>2016-03-12</td>\n",
       "      <td>11.95</td>\n",
       "      <td>13.45</td>\n",
       "      <td>11.95</td>\n",
       "      <td>12.92</td>\n",
       "      <td>833</td>\n",
       "    </tr>\n",
       "    <tr>\n",
       "      <th>3</th>\n",
       "      <td>2016-03-13</td>\n",
       "      <td>12.92</td>\n",
       "      <td>15.07</td>\n",
       "      <td>12.92</td>\n",
       "      <td>15.07</td>\n",
       "      <td>1295</td>\n",
       "    </tr>\n",
       "    <tr>\n",
       "      <th>4</th>\n",
       "      <td>2016-03-14</td>\n",
       "      <td>15.07</td>\n",
       "      <td>15.07</td>\n",
       "      <td>11.40</td>\n",
       "      <td>12.50</td>\n",
       "      <td>92183</td>\n",
       "    </tr>\n",
       "  </tbody>\n",
       "</table>\n",
       "</div>"
      ],
      "text/plain": [
       "         Date   Open   High    Low  Close  Volume\n",
       "0  2016-03-10  11.20  11.85  11.07  11.75       4\n",
       "1  2016-03-11  11.75  11.95  11.75  11.95     179\n",
       "2  2016-03-12  11.95  13.45  11.95  12.92     833\n",
       "3  2016-03-13  12.92  15.07  12.92  15.07    1295\n",
       "4  2016-03-14  15.07  15.07  11.40  12.50   92183"
      ]
     },
     "execution_count": 11,
     "metadata": {},
     "output_type": "execute_result"
    }
   ],
   "source": [
    "df.head()"
   ]
  },
  {
   "cell_type": "markdown",
   "metadata": {},
   "source": [
    "### The Change in Price Of Ethereum over the years\n"
   ]
  },
  {
   "cell_type": "code",
   "execution_count": 12,
   "metadata": {},
   "outputs": [
    {
     "data": {
      "text/html": [
       "<div>\n",
       "<style scoped>\n",
       "    .dataframe tbody tr th:only-of-type {\n",
       "        vertical-align: middle;\n",
       "    }\n",
       "\n",
       "    .dataframe tbody tr th {\n",
       "        vertical-align: top;\n",
       "    }\n",
       "\n",
       "    .dataframe thead th {\n",
       "        text-align: right;\n",
       "    }\n",
       "</style>\n",
       "<table border=\"1\" class=\"dataframe\">\n",
       "  <thead>\n",
       "    <tr style=\"text-align: right;\">\n",
       "      <th></th>\n",
       "      <th>Open</th>\n",
       "      <th>High</th>\n",
       "      <th>Low</th>\n",
       "      <th>Close</th>\n",
       "      <th>Volume</th>\n",
       "    </tr>\n",
       "  </thead>\n",
       "  <tbody>\n",
       "    <tr>\n",
       "      <th>Open</th>\n",
       "      <td>1.000000</td>\n",
       "      <td>0.999340</td>\n",
       "      <td>0.998516</td>\n",
       "      <td>0.998126</td>\n",
       "      <td>0.051042</td>\n",
       "    </tr>\n",
       "    <tr>\n",
       "      <th>High</th>\n",
       "      <td>0.999340</td>\n",
       "      <td>1.000000</td>\n",
       "      <td>0.998421</td>\n",
       "      <td>0.999095</td>\n",
       "      <td>0.049529</td>\n",
       "    </tr>\n",
       "    <tr>\n",
       "      <th>Low</th>\n",
       "      <td>0.998516</td>\n",
       "      <td>0.998421</td>\n",
       "      <td>1.000000</td>\n",
       "      <td>0.999078</td>\n",
       "      <td>0.052345</td>\n",
       "    </tr>\n",
       "    <tr>\n",
       "      <th>Close</th>\n",
       "      <td>0.998126</td>\n",
       "      <td>0.999095</td>\n",
       "      <td>0.999078</td>\n",
       "      <td>1.000000</td>\n",
       "      <td>0.050444</td>\n",
       "    </tr>\n",
       "    <tr>\n",
       "      <th>Volume</th>\n",
       "      <td>0.051042</td>\n",
       "      <td>0.049529</td>\n",
       "      <td>0.052345</td>\n",
       "      <td>0.050444</td>\n",
       "      <td>1.000000</td>\n",
       "    </tr>\n",
       "  </tbody>\n",
       "</table>\n",
       "</div>"
      ],
      "text/plain": [
       "            Open      High       Low     Close    Volume\n",
       "Open    1.000000  0.999340  0.998516  0.998126  0.051042\n",
       "High    0.999340  1.000000  0.998421  0.999095  0.049529\n",
       "Low     0.998516  0.998421  1.000000  0.999078  0.052345\n",
       "Close   0.998126  0.999095  0.999078  1.000000  0.050444\n",
       "Volume  0.051042  0.049529  0.052345  0.050444  1.000000"
      ]
     },
     "execution_count": 12,
     "metadata": {},
     "output_type": "execute_result"
    }
   ],
   "source": [
    "df.corr()"
   ]
  },
  {
   "cell_type": "code",
   "execution_count": 13,
   "metadata": {},
   "outputs": [
    {
     "data": {
      "text/plain": [
       "<Figure size 7200x5040 with 0 Axes>"
      ]
     },
     "execution_count": 13,
     "metadata": {},
     "output_type": "execute_result"
    },
    {
     "data": {
      "image/png": "[encoded data removed]",
      "text/plain": [
       "<Figure size 432x288 with 1 Axes>"
      ]
     },
     "metadata": {
      "needs_background": "light"
     },
     "output_type": "display_data"
    },
    {
     "data": {
      "text/plain": [
       "<Figure size 7200x5040 with 0 Axes>"
      ]
     },
     "metadata": {},
     "output_type": "display_data"
    }
   ],
   "source": [
    "x = df ['Date']\n",
    "y= df ['Close']\n",
    "\n",
    "plt.plot(x,y),\n",
    "plt.xlabel(\"Timeframe Period\")\n",
    "plt.ylabel(\"Closing Price\")\n",
    "plt.title(\"Change In Price\")\n",
    "plt.figure(figsize=(100,70))\n"
   ]
  },
  {
   "cell_type": "code",
   "execution_count": 14,
   "metadata": {},
   "outputs": [
    {
     "data": {
      "text/plain": [
       "<AxesSubplot:xlabel='Date'>"
      ]
     },
     "execution_count": 14,
     "metadata": {},
     "output_type": "execute_result"
    },
    {
     "data": {
      "image/png": "[encoded data removed]",
      "text/plain": [
       "<Figure size 2880x1440 with 1 Axes>"
      ]
     },
     "metadata": {
      "needs_background": "light"
     },
     "output_type": "display_data"
    }
   ],
   "source": [
    "df.plot(kind = 'line',x = 'Date',y = 'Close',figsize = (40,20))"
   ]
  },
  {
   "cell_type": "markdown",
   "metadata": {},
   "source": [
    "##### The Ethereum Graph showned above describes the movement of the price which is largely due to 'Volume' bought, The Graph above is still bullish even though the recent downtime has it had its lowest year sometimes around '2016' and begin the uptrend late '2016',from late '2016' till early '2021' it was on the rise which it peaked around this period too. During the late 2021 there was a General downtrend in crypto which affects the closing price and value hence the downtrend or bear graph getting to late '2021'. "
   ]
  },
  {
   "cell_type": "markdown",
   "metadata": {},
   "source": [
    "##### How does Ethereum Volume affects the Closing Price or The relationship between the Closing price and Volume?"
   ]
  },
  {
   "cell_type": "markdown",
   "metadata": {},
   "source": []
  },
  {
   "cell_type": "code",
   "execution_count": 15,
   "metadata": {},
   "outputs": [
    {
     "data": {
      "text/html": [
       "<div>\n",
       "<style scoped>\n",
       "    .dataframe tbody tr th:only-of-type {\n",
       "        vertical-align: middle;\n",
       "    }\n",
       "\n",
       "    .dataframe tbody tr th {\n",
       "        vertical-align: top;\n",
       "    }\n",
       "\n",
       "    .dataframe thead th {\n",
       "        text-align: right;\n",
       "    }\n",
       "</style>\n",
       "<table border=\"1\" class=\"dataframe\">\n",
       "  <thead>\n",
       "    <tr style=\"text-align: right;\">\n",
       "      <th></th>\n",
       "      <th>Open</th>\n",
       "      <th>High</th>\n",
       "      <th>Low</th>\n",
       "      <th>Close</th>\n",
       "      <th>Volume</th>\n",
       "    </tr>\n",
       "  </thead>\n",
       "  <tbody>\n",
       "    <tr>\n",
       "      <th>Open</th>\n",
       "      <td>1.000000</td>\n",
       "      <td>0.999340</td>\n",
       "      <td>0.998516</td>\n",
       "      <td>0.998126</td>\n",
       "      <td>0.051042</td>\n",
       "    </tr>\n",
       "    <tr>\n",
       "      <th>High</th>\n",
       "      <td>0.999340</td>\n",
       "      <td>1.000000</td>\n",
       "      <td>0.998421</td>\n",
       "      <td>0.999095</td>\n",
       "      <td>0.049529</td>\n",
       "    </tr>\n",
       "    <tr>\n",
       "      <th>Low</th>\n",
       "      <td>0.998516</td>\n",
       "      <td>0.998421</td>\n",
       "      <td>1.000000</td>\n",
       "      <td>0.999078</td>\n",
       "      <td>0.052345</td>\n",
       "    </tr>\n",
       "    <tr>\n",
       "      <th>Close</th>\n",
       "      <td>0.998126</td>\n",
       "      <td>0.999095</td>\n",
       "      <td>0.999078</td>\n",
       "      <td>1.000000</td>\n",
       "      <td>0.050444</td>\n",
       "    </tr>\n",
       "    <tr>\n",
       "      <th>Volume</th>\n",
       "      <td>0.051042</td>\n",
       "      <td>0.049529</td>\n",
       "      <td>0.052345</td>\n",
       "      <td>0.050444</td>\n",
       "      <td>1.000000</td>\n",
       "    </tr>\n",
       "  </tbody>\n",
       "</table>\n",
       "</div>"
      ],
      "text/plain": [
       "            Open      High       Low     Close    Volume\n",
       "Open    1.000000  0.999340  0.998516  0.998126  0.051042\n",
       "High    0.999340  1.000000  0.998421  0.999095  0.049529\n",
       "Low     0.998516  0.998421  1.000000  0.999078  0.052345\n",
       "Close   0.998126  0.999095  0.999078  1.000000  0.050444\n",
       "Volume  0.051042  0.049529  0.052345  0.050444  1.000000"
      ]
     },
     "execution_count": 15,
     "metadata": {},
     "output_type": "execute_result"
    }
   ],
   "source": [
    "df.corr()"
   ]
  },
  {
   "cell_type": "code",
   "execution_count": 16,
   "metadata": {},
   "outputs": [
    {
     "data": {
      "text/plain": [
       "<matplotlib.collections.PathCollection at 0x2da496c1fd0>"
      ]
     },
     "execution_count": 16,
     "metadata": {},
     "output_type": "execute_result"
    },
    {
     "data": {
      "image/png": "[encoded data removed]",
      "text/plain": [
       "<Figure size 432x288 with 1 Axes>"
      ]
     },
     "metadata": {
      "needs_background": "light"
     },
     "output_type": "display_data"
    }
   ],
   "source": [
    "x = df['Close']\n",
    "y = df['Volume']\n",
    "\n",
    "font3 = {'family':'serif','color':'red','size': 15}\n",
    "\n",
    "plt.xlabel(\"Closing Price\")\n",
    "plt.ylabel(\"Ethereum Volume\")\n",
    "plt.title(\"Relationship Between Closing Price and ETH. Volume\", fontdict = font3,)\n",
    "plt.grid(linestyle = 'dashdot', linewidth = 2.5)\n",
    "plt.scatter(x,y, color = 'blue')"
   ]
  },
  {
   "cell_type": "markdown",
   "metadata": {},
   "source": [
    "#### This is a scattered graph showing the relationship between ethereum volume and closing price. This Goes to show that Closing price is not really affected by Ethereum volume in the market.Both factors operate independently without each other."
   ]
  },
  {
   "cell_type": "markdown",
   "metadata": {},
   "source": [
    "### The Distribution of ETH Volume in the Data."
   ]
  },
  {
   "cell_type": "code",
   "execution_count": 25,
   "metadata": {},
   "outputs": [
    {
     "data": {
      "image/png": "[encoded data removed]",
      "text/plain": [
       "<Figure size 432x288 with 1 Axes>"
      ]
     },
     "metadata": {
      "needs_background": "light"
     },
     "output_type": "display_data"
    }
   ],
   "source": [
    "x = df['Volume']\n",
    "\n",
    "plt.boxplot(x,patch_artist=True, widths = 0.1, showfliers=True, showmeans=True)\n",
    "plt.ylabel(\"Ethereum Volume\")\n",
    "plt.title(\"Distribution of Ethereum Volume\", loc='left');\n"
   ]
  },
  {
   "cell_type": "code",
   "execution_count": 18,
   "metadata": {},
   "outputs": [
    {
     "data": {
      "text/plain": [
       "count    2412.000000\n",
       "mean      861.639865\n",
       "std      1140.967252\n",
       "min         6.700000\n",
       "25%       142.567500\n",
       "50%       290.340000\n",
       "75%      1261.895000\n",
       "max      4808.380000\n",
       "Name: Close, dtype: float64"
      ]
     },
     "execution_count": 18,
     "metadata": {},
     "output_type": "execute_result"
    }
   ],
   "source": [
    "df['Close'].describe()"
   ]
  },
  {
   "cell_type": "code",
   "execution_count": 27,
   "metadata": {},
   "outputs": [
    {
     "data": {
      "text/plain": [
       "<function matplotlib.pyplot.show(close=None, block=None)>"
      ]
     },
     "execution_count": 27,
     "metadata": {},
     "output_type": "execute_result"
    },
    {
     "data": {
      "image/png": "[encoded data removed]",
      "text/plain": [
       "<Figure size 432x288 with 1 Axes>"
      ]
     },
     "metadata": {
      "needs_background": "light"
     },
     "output_type": "display_data"
    }
   ],
   "source": [
    "plt.hist (x,bins=20,edgecolor = 'white')\n",
    "plt.show"
   ]
  },
  {
   "cell_type": "code",
   "execution_count": null,
   "metadata": {},
   "outputs": [],
   "source": []
  }
 ],
 "metadata": {
  "kernelspec": {
   "display_name": "Python 3.9.12 ('base')",
   "language": "python",
   "name": "python3"
  },
  "language_info": {
   "codemirror_mode": {
    "name": "ipython",
    "version": 3
   },
   "file_extension": ".py",
   "mimetype": "text/x-python",
   "name": "python",
   "nbconvert_exporter": "python",
   "pygments_lexer": "ipython3",
   "version": "3.9.12"
  },
  "orig_nbformat": 4,
  "vscode": {
   "interpreter": {
    "hash": "ed92d34342ad9fef338785d7b680ade9d45c35d728d43aee4f7048cd1a341842"
   }
  }
 },
 "nbformat": 4,
 "nbformat_minor": 2
}
